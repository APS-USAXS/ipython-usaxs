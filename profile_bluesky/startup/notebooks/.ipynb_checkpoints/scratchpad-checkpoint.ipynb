{
 "cells": [
  {
   "cell_type": "markdown",
   "metadata": {},
   "source": [
    "# scratchpad\n",
    "\n",
    "for sketching out some ideas"
   ]
  },
  {
   "cell_type": "code",
   "execution_count": 1,
   "metadata": {},
   "outputs": [],
   "source": [
    "from ophyd import Device, Component, EpicsSignal"
   ]
  },
  {
   "cell_type": "code",
   "execution_count": 2,
   "metadata": {},
   "outputs": [],
   "source": [
    "class UserDataDevice(Device):\n",
    "    FS_order_number = Component(EpicsSignal,    \"USAXS:FS_OrderNumber\")\n",
    "    GUP_number = Component(EpicsSignal,         \"GUPNumber\")\n",
    "    macro_file_time = Component(EpicsSignal,    \"USAXS:macroFileTime\")\n",
    "    run_cycle = Component(EpicsSignal,          \"RunCycle\")\n",
    "    sample_thickness = Component(EpicsSignal,   \"USAXS:SampleThickness\")\n",
    "    sample_title = Component(EpicsSignal,       \"USAXS:sampleTitle\")\n",
    "    spec_file = Component(EpicsSignal,          \"USAXS:specFile\")\n",
    "    spec_scan = Component(EpicsSignal,          \"USAXS:specScan\")\n",
    "    state = Component(EpicsSignal,              \"USAXS:state\")\n",
    "    time_stamp = Component(EpicsSignal,         \"USAXS:timeStamp\")\n",
    "    user_dir = Component(EpicsSignal,           \"USAXS:userDir\")\n",
    "    user_name = Component(EpicsSignal,          \"UserName\")\n",
    "    \n",
    "    # FIXME: comment needs fixing\n",
    "    # for GUI to know if user is collecting data: 1-not running, 0 running ???\n",
    "    # for GUI to know if user is collecting data: 1=running, 0=not running\n",
    "    collection_in_progress = Component(EpicsSignal, \"dataColInProgress\")\n",
    "\n",
    "\n",
    "user_data = UserDataDevice(\"9idcLAX:\", name=\"user_data\")"
   ]
  },
  {
   "cell_type": "code",
   "execution_count": 4,
   "metadata": {},
   "outputs": [
    {
     "data": {
      "text/plain": [
       "OrderedDict([('user_data_FS_order_number',\n",
       "              {'value': 1, 'timestamp': 1533241697.351012}),\n",
       "             ('user_data_GUP_number',\n",
       "              {'value': '57504', 'timestamp': 631152000.0}),\n",
       "             ('user_data_macro_file_time',\n",
       "              {'value': 'Thu Aug 02 15:39:25 2018',\n",
       "               'timestamp': 1533242365.895038}),\n",
       "             ('user_data_run_cycle',\n",
       "              {'value': '2018-02', 'timestamp': 631152000.0}),\n",
       "             ('user_data_sample_thickness',\n",
       "              {'value': 0.0, 'timestamp': 631152000.0}),\n",
       "             ('user_data_sample_title',\n",
       "              {'value': 'Q0003Optics_FlatField',\n",
       "               'timestamp': 1533242241.676367}),\n",
       "             ('user_data_spec_file',\n",
       "              {'value': '07_31_ImgSetup.dat', 'timestamp': 1533242241.6097}),\n",
       "             ('user_data_spec_scan',\n",
       "              {'value': 1048, 'timestamp': 1533242241.6097}),\n",
       "             ('user_data_state',\n",
       "              {'value': 'USAXS macro file done',\n",
       "               'timestamp': 1533242365.895038}),\n",
       "             ('user_data_time_stamp',\n",
       "              {'value': 'Thu Aug 02 15:39:25 2018',\n",
       "               'timestamp': 1533242365.895038}),\n",
       "             ('user_data_user_dir',\n",
       "              {'value': '/share1/USAXS_data/2018-07',\n",
       "               'timestamp': 1533242241.6097}),\n",
       "             ('user_data_user_name',\n",
       "              {'value': 'PUP NIST', 'timestamp': 631152000.0}),\n",
       "             ('user_data_collection_in_progress',\n",
       "              {'value': 0, 'timestamp': 1533242365.895038})])"
      ]
     },
     "execution_count": 4,
     "metadata": {},
     "output_type": "execute_result"
    }
   ],
   "source": [
    "user_data.read()"
   ]
  },
  {
   "cell_type": "code",
   "execution_count": null,
   "metadata": {},
   "outputs": [],
   "source": []
  }
 ],
 "metadata": {
  "kernelspec": {
   "display_name": "Python 3",
   "language": "python",
   "name": "python3"
  },
  "language_info": {
   "codemirror_mode": {
    "name": "ipython",
    "version": 3
   },
   "file_extension": ".py",
   "mimetype": "text/x-python",
   "name": "python",
   "nbconvert_exporter": "python",
   "pygments_lexer": "ipython3",
   "version": "3.6.5"
  }
 },
 "nbformat": 4,
 "nbformat_minor": 2
}
