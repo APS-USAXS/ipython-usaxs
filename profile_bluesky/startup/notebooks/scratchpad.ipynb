{
 "cells": [
  {
   "cell_type": "markdown",
   "metadata": {},
   "source": [
    "# scratchpad\n",
    "\n",
    "for sketching out some ideas"
   ]
  },
  {
   "cell_type": "code",
   "execution_count": 1,
   "metadata": {},
   "outputs": [],
   "source": [
    "from ophyd import Device, Component, EpicsSignal"
   ]
  },
  {
   "cell_type": "code",
   "execution_count": 2,
   "metadata": {},
   "outputs": [],
   "source": [
    "class UserDataDevice(Device):\n",
    "    FS_order_number = Component(EpicsSignal,    \"USAXS:FS_OrderNumber\")\n",
    "    GUP_number = Component(EpicsSignal,         \"GUPNumber\")\n",
    "    macro_file_time = Component(EpicsSignal,    \"USAXS:macroFileTime\")\n",
    "    run_cycle = Component(EpicsSignal,          \"RunCycle\")\n",
    "    sample_thickness = Component(EpicsSignal,   \"USAXS:SampleThickness\")\n",
    "    sample_title = Component(EpicsSignal,       \"USAXS:sampleTitle\")\n",
    "    spec_file = Component(EpicsSignal,          \"USAXS:specFile\")\n",
    "    spec_scan = Component(EpicsSignal,          \"USAXS:specScan\")\n",
    "    state = Component(EpicsSignal,              \"USAXS:state\")\n",
    "    time_stamp = Component(EpicsSignal,         \"USAXS:timeStamp\")\n",
    "    user_dir = Component(EpicsSignal,           \"USAXS:userDir\")\n",
    "    user_name = Component(EpicsSignal,          \"UserName\")\n",
    "    \n",
    "    # FIXME: comment needs fixing\n",
    "    # for GUI to know if user is collecting data: 1-not running, 0 running ???\n",
    "    # for GUI to know if user is collecting data: 1=running, 0=not running\n",
    "    collection_in_progress = Component(EpicsSignal, \"dataColInProgress\")\n",
    "\n",
    "\n",
    "user_data = UserDataDevice(\"9idcLAX:\", name=\"user_data\")"
   ]
  },
  {
   "cell_type": "code",
   "execution_count": 4,
   "metadata": {},
   "outputs": [
    {
     "data": {
      "text/plain": [
       "OrderedDict([('user_data_FS_order_number',\n",
       "              {'value': 1, 'timestamp': 1533241697.351012}),\n",
       "             ('user_data_GUP_number',\n",
       "              {'value': '57504', 'timestamp': 631152000.0}),\n",
       "             ('user_data_macro_file_time',\n",
       "              {'value': 'Thu Aug 02 15:39:25 2018',\n",
       "               'timestamp': 1533242365.895038}),\n",
       "             ('user_data_run_cycle',\n",
       "              {'value': '2018-02', 'timestamp': 631152000.0}),\n",
       "             ('user_data_sample_thickness',\n",
       "              {'value': 0.0, 'timestamp': 631152000.0}),\n",
       "             ('user_data_sample_title',\n",
       "              {'value': 'Q0003Optics_FlatField',\n",
       "               'timestamp': 1533242241.676367}),\n",
       "             ('user_data_spec_file',\n",
       "              {'value': '07_31_ImgSetup.dat', 'timestamp': 1533242241.6097}),\n",
       "             ('user_data_spec_scan',\n",
       "              {'value': 1048, 'timestamp': 1533242241.6097}),\n",
       "             ('user_data_state',\n",
       "              {'value': 'USAXS macro file done',\n",
       "               'timestamp': 1533242365.895038}),\n",
       "             ('user_data_time_stamp',\n",
       "              {'value': 'Thu Aug 02 15:39:25 2018',\n",
       "               'timestamp': 1533242365.895038}),\n",
       "             ('user_data_user_dir',\n",
       "              {'value': '/share1/USAXS_data/2018-07',\n",
       "               'timestamp': 1533242241.6097}),\n",
       "             ('user_data_user_name',\n",
       "              {'value': 'PUP NIST', 'timestamp': 631152000.0}),\n",
       "             ('user_data_collection_in_progress',\n",
       "              {'value': 0, 'timestamp': 1533242365.895038})])"
      ]
     },
     "execution_count": 4,
     "metadata": {},
     "output_type": "execute_result"
    }
   ],
   "source": [
    "user_data.read()"
   ]
  },
  {
   "cell_type": "code",
   "execution_count": 8,
   "metadata": {},
   "outputs": [
    {
     "data": {
      "text/plain": [
       "('On', 'Off')"
      ]
     },
     "execution_count": 8,
     "metadata": {},
     "output_type": "execute_result"
    }
   ],
   "source": [
    "user_data.collection_in_progress.enum_strs"
   ]
  },
  {
   "cell_type": "code",
   "execution_count": 17,
   "metadata": {},
   "outputs": [],
   "source": [
    "from ophyd import EpicsMotor\n",
    "\n",
    "class EpicsMotorLimitsMixin(Device):\n",
    "    \"\"\"\n",
    "    add motor record HLM & LLM fields & compatibility get_lim() and set_lim()\n",
    "    \"\"\"\n",
    "    \n",
    "    soft_limit_lo = Component(EpicsSignal, \".LLM\")\n",
    "    soft_limit_hi = Component(EpicsSignal, \".HLM\")\n",
    "    \n",
    "    def get_lim(self, flag):\n",
    "        \"\"\"\n",
    "        Returns the user limit of motor\n",
    "        \n",
    "        flag > 0: returns high limit\n",
    "        flag < 0: returns low limit\n",
    "        flag == 0: returns None\n",
    "        \"\"\"\n",
    "        if flag > 0:\n",
    "            return self.high_limit\n",
    "        else:\n",
    "            return self.low_limit\n",
    "    \n",
    "    def set_lim(self, low, high):\n",
    "        \"\"\"\n",
    "        Sets the low and high limits of motor\n",
    "        \n",
    "        * Low limit is set to lesser of (low, high)\n",
    "        * High limit is set to greater of (low, high)\n",
    "        * No action taken if motor is moving. \n",
    "        \"\"\"\n",
    "        if not self.moving:\n",
    "            self.soft_limit_lo.put(min(low, high))\n",
    "            self.soft_limit_hi.put(max(low, high))\n",
    "\n",
    "\n",
    "class UsaxsMotor(EpicsMotor, EpicsMotorLimitsMixin): pass\n",
    "\n",
    "waxsx = UsaxsMotor('9idcLAX:m58:c0:m4', name='waxsx', labels=(\"waxs\",))  # WAXS X"
   ]
  },
  {
   "cell_type": "code",
   "execution_count": 18,
   "metadata": {},
   "outputs": [
    {
     "data": {
      "text/plain": [
       "255.4"
      ]
     },
     "execution_count": 18,
     "metadata": {},
     "output_type": "execute_result"
    }
   ],
   "source": [
    "waxsx.get_lim(1)"
   ]
  },
  {
   "cell_type": "code",
   "execution_count": 19,
   "metadata": {},
   "outputs": [
    {
     "data": {
      "text/plain": [
       "-21.00000000000003"
      ]
     },
     "execution_count": 19,
     "metadata": {},
     "output_type": "execute_result"
    }
   ],
   "source": [
    "waxsx.get_lim(-1)"
   ]
  },
  {
   "cell_type": "code",
   "execution_count": 20,
   "metadata": {},
   "outputs": [
    {
     "data": {
      "text/plain": [
       "-21.00000000000003"
      ]
     },
     "execution_count": 20,
     "metadata": {},
     "output_type": "execute_result"
    }
   ],
   "source": [
    "waxsx.soft_limit_lo.value"
   ]
  },
  {
   "cell_type": "code",
   "execution_count": 21,
   "metadata": {},
   "outputs": [],
   "source": [
    "UsaxsSaxsMode = EpicsSignal(\"9idcLAX:USAXS_Pin:USAXSSAXSMode\", name=\"UsaxsSaxsMode\")"
   ]
  },
  {
   "cell_type": "code",
   "execution_count": 22,
   "metadata": {},
   "outputs": [
    {
     "data": {
      "text/plain": [
       "5.0"
      ]
     },
     "execution_count": 22,
     "metadata": {},
     "output_type": "execute_result"
    }
   ],
   "source": [
    "UsaxsSaxsMode.value"
   ]
  },
  {
   "cell_type": "code",
   "execution_count": 23,
   "metadata": {},
   "outputs": [
    {
     "data": {
      "text/plain": [
       "True"
      ]
     },
     "execution_count": 23,
     "metadata": {},
     "output_type": "execute_result"
    }
   ],
   "source": [
    "UsaxsSaxsMode.value == 5"
   ]
  }
 ],
 "metadata": {
  "kernelspec": {
   "display_name": "Python 3",
   "language": "python",
   "name": "python3"
  },
  "language_info": {
   "codemirror_mode": {
    "name": "ipython",
    "version": 3
   },
   "file_extension": ".py",
   "mimetype": "text/x-python",
   "name": "python",
   "nbconvert_exporter": "python",
   "pygments_lexer": "ipython3",
   "version": "3.6.5"
  }
 },
 "nbformat": 4,
 "nbformat_minor": 2
}
