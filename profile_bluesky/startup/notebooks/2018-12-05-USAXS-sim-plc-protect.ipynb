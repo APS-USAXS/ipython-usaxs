{
 "cells": [
  {
   "cell_type": "markdown",
   "metadata": {},
   "source": [
    "# USAXS PLC Suspender simulation\n",
    "\n",
    "Per https://github.com/APS-USAXS/ipython-usaxs/issues/82, simulate\n",
    "the `plc_protect.stop_if_tripped` function as a bluesky suspender."
   ]
  },
  {
   "cell_type": "code",
   "execution_count": 1,
   "metadata": {},
   "outputs": [],
   "source": [
    "import epics\n",
    "from ophyd import Device, Component, EpicsSignal\n",
    "from bluesky import RunEngine\n",
    "import bluesky.plans as bp\n",
    "from bluesky.callbacks import LiveTable"
   ]
  },
  {
   "cell_type": "code",
   "execution_count": 2,
   "metadata": {},
   "outputs": [],
   "source": [
    "class PlcProtectionDevice(Device):\n",
    "    \"\"\"\n",
    "    Detector Protection PLC interface\n",
    "    \n",
    "    motion limit switches: \n",
    "    * SAXS_Y, WAXS_X, AX\n",
    "    * zero when OFF\n",
    "    * two limits must be ON to allow safe move of the third\n",
    "    \"\"\"\n",
    "    SAXS_Y = Component(EpicsSignal, 'X11')\n",
    "    WAXS_X = Component(EpicsSignal, 'X12')\n",
    "    AX = Component(EpicsSignal, 'X13')\n",
    "    \n",
    "    operations_status = Component(EpicsSignal, 'Y0')     # 0=not good, 1=good\n",
    "    \n",
    "    SLEEP_POLL_s = 0.1\n",
    "    _tripped_message = None\n",
    "\n",
    "    tripped_text = \"\"\"\n",
    "    Equipment protection is engaged, no power on motors.\n",
    "    Fix PLC protection before any move. Stopping now.\n",
    "    Call beamline scientists if you do not understand.\n",
    "\n",
    "    !!!!!!  DO NOT TRY TO FIX THIS YOURSELF  !!!!!!\n",
    "\n",
    "    \"\"\"\n",
    "    suspender = None\n",
    "\n",
    "    @property\n",
    "    def interlocked(self):\n",
    "        return not 0 in (self.SAXS_Y.value, self.WAXS_X.value, self.AX.value)\n",
    "    \n",
    "    def wait_for_interlock(self, verbose=True):\n",
    "        t0 = time.time()\n",
    "        msg = \"Waiting %g for PLC interlock, check limit switches\"\n",
    "        while not self.interlocked:\n",
    "            yield from bps.sleep(self.SLEEP_POLL_s)\n",
    "            if verbose:\n",
    "                print(msg % time.time()-t0)\n",
    "    \n",
    "    def stop_if_tripped(self, verbose=True):\n",
    "        if self.operations_status.value == 1:\n",
    "            self._tripped_message = None\n",
    "        else:\n",
    "            msg = self.tripped_text\n",
    "            if verbose:\n",
    "                print(msg)\n",
    "            yield from bps.mv(\n",
    "                ti_filter_shutter, \"close\",\n",
    "                user_data.collection_in_progress, 0,     # notify the GUI and others\n",
    "            )\n",
    "            if self.suspender is not None:\n",
    "                msg +=\"\\n P.S. Can resume Bluesky scan: {}\\n\".format(\n",
    "                    suspender.allow_resume)\n",
    "            self._tripped_message = msg\n",
    "    \n",
    "    def stop_in_suspender(self):\n",
    "        if self.operations_status.value == 1:\n",
    "            msg = None\n",
    "        else:\n",
    "            msg = self.tripped_text\n",
    "            if self.suspender is not None:\n",
    "                msg +=\"\\n P.S. Can resume Bluesky scan: {}\\n\".format(\n",
    "                    self.suspender.allow_resume)\n",
    "            ti_filter_shutter.close()\n",
    "            user_data.collection_in_progress.put(0)     # notify the GUI and others\n",
    "        return msg\n"
   ]
  },
  {
   "cell_type": "code",
   "execution_count": 3,
   "metadata": {},
   "outputs": [],
   "source": [
    "class SimPlcProtectionDevice(PlcProtectionDevice):\n",
    "    # for my simulator\n",
    "    SAXS_Y = Component(EpicsSignal, 'otz:vars0:bit1')\n",
    "    WAXS_X = Component(EpicsSignal, 'otz:vars0:bit2')\n",
    "    AX = Component(EpicsSignal, 'otz:vars0:bit3')\n",
    "    \n",
    "    operations_status = Component(EpicsSignal, 'otz:vars0:bit0')     # 0=not good, 1=good\n",
    "    \n",
    "    def set_epics_names(self, signal, desc, znam, onam):\n",
    "        pvname = signal.pvname\n",
    "        epics.caput(pvname+\".DESC\", desc)\n",
    "        epics.caput(pvname+\".ZNAM\", znam)\n",
    "        epics.caput(pvname+\".ONAM\", onam)\n",
    "\n",
    "plc_protect = SimPlcProtectionDevice(name=\"plc_protect\")\n",
    "# set text in the PVs to make the GUI look pretty\n",
    "plc_protect.set_epics_names(plc_protect.SAXS_Y, \"X11 SAXS_Y\", \"Low\", \"High\")\n",
    "plc_protect.set_epics_names(plc_protect.WAXS_X, \"X12 WAXS_X\", \"Low\", \"High\")\n",
    "plc_protect.set_epics_names(plc_protect.AX, \"X13 AX\", \"Low\", \"High\")\n",
    "plc_protect.set_epics_names(plc_protect.operations_status, \"Y0 operations_status\", \"not good\", \"good\")"
   ]
  },
  {
   "cell_type": "code",
   "execution_count": 4,
   "metadata": {},
   "outputs": [],
   "source": [
    "import APS_BlueSky_tools.suspenders as APS_suspenders\n",
    "\n",
    "class PlcProtectSuspendWhenChanged(APS_suspenders.SuspendWhenChanged):\n",
    "    \n",
    "    justification_text = \"\"\". \n",
    "    Significant equipment problem.  Do these steps:\n",
    "    1. ^C twice      # interrupt the ipython kernel\n",
    "    2. RE.abort()    # finalize current data streams (if any)\n",
    "    3. exit          # quit bluesky session\n",
    "    4. call beamline scientists\n",
    "\n",
    "    \"\"\"\n",
    "\n",
    "    def _get_justification(self):\n",
    "        \"\"\"override default method to call plc_protect.stop_if_tripped()\"\"\"\n",
    "        if not self.tripped:\n",
    "            return ''\n",
    "\n",
    "        self._tripped_message = None\n",
    "        just = 'Signal {}, got \"{}\", expected \"{}\"'.format(\n",
    "            self._sig.name,\n",
    "            self._sig.get(),\n",
    "            self.expected_value)\n",
    "        if not self.allow_resume:\n",
    "            just += self.justification_text\n",
    "            self._tripped_message = plc_protect.stop_in_suspender()\n",
    "\n",
    "        return '\\n----\\n'.join(s for s in (just, self._tripped_message) if s)"
   ]
  },
  {
   "cell_type": "code",
   "execution_count": 5,
   "metadata": {},
   "outputs": [],
   "source": [
    "from APS_BlueSky_tools.devices import SimulatedApsPssShutterWithStatus\n",
    "ti_filter_shutter = SimulatedApsPssShutterWithStatus(name=\"ti_filter_shutter\")\n",
    "\n",
    "class UserDataSimulator(Device):\n",
    "    collection_in_progress = Component(EpicsSignal, \"otz:vars0:bit4\")\n",
    "user_data = UserDataSimulator(name=\"user_data\")"
   ]
  },
  {
   "cell_type": "code",
   "execution_count": 6,
   "metadata": {},
   "outputs": [],
   "source": [
    "RE = RunEngine({})\n",
    "\n",
    "# Important for routine operations\n",
    "# see: https://github.com/APS-USAXS/ipython-usaxs/issues/82#issuecomment-444187217\n",
    "suspend_plc_protect_operations_status = PlcProtectSuspendWhenChanged(\n",
    "    plc_protect.operations_status, \n",
    "    expected_value=1)\n",
    "# note: will fail if plc_protect.operations_status is \"not good\" - we want that!\n",
    "RE.install_suspender(suspend_plc_protect_operations_status)\n",
    "plc_protect.suspender = suspend_plc_protect_operations_status"
   ]
  },
  {
   "cell_type": "code",
   "execution_count": 7,
   "metadata": {},
   "outputs": [],
   "source": [
    "det = EpicsSignal(\"otz:vars0:float1\", name=\"det\")"
   ]
  },
  {
   "cell_type": "code",
   "execution_count": 8,
   "metadata": {},
   "outputs": [
    {
     "name": "stdout",
     "output_type": "stream",
     "text": [
      "+-----------+------------+------------+\n",
      "|   seq_num |       time |        det |\n",
      "+-----------+------------+------------+\n",
      "|         1 | 13:02:01.3 |    0.00000 |\n",
      "|         2 | 13:02:02.3 |    0.00000 |\n",
      "|         3 | 13:02:03.3 |    0.00000 |\n",
      "|         4 | 13:02:04.3 |    0.00000 |\n",
      "Suspending....To get prompt hit Ctrl-C twice to pause.\n",
      "Suspension occurred at 2018-12-05 13:02:04.\n",
      "Justification for this suspension:\n",
      "Signal plc_protect_operations_status, got \"0\", expected \"1\". \n",
      "    Significant equipment problem.  Do these steps:\n",
      "    1. ^C twice      # interrupt the ipython kernel\n",
      "    2. RE.abort()    # finalize current data streams (if any)\n",
      "    3. exit          # quit bluesky session\n",
      "    4. call beamline scientists\n",
      "\n",
      "    \n",
      "----\n",
      "\n",
      "    Equipment protection is engaged, no power on motors.\n",
      "    Fix PLC protection before any move. Stopping now.\n",
      "    Call beamline scientists if you do not understand.\n",
      "\n",
      "    !!!!!!  DO NOT TRY TO FIX THIS YOURSELF  !!!!!!\n",
      "\n",
      "    \n",
      " P.S. Can resume Bluesky scan: False\n",
      "\n",
      "A 'deferred pause' has been requested. The RunEngine will pause at the next checkpoint. To pause immediately, hit Ctrl+C again in the next 10 seconds.\n",
      "Deferred pause acknowledged. Continuing to checkpoint.\n",
      "Pausing...\n"
     ]
    },
    {
     "ename": "RunEngineInterrupted",
     "evalue": "\nYour RunEngine is entering a paused state. These are your options for changing\nthe state of the RunEngine:\n\nRE.resume()    Resume the plan.\nRE.abort()     Perform cleanup, then kill plan. Mark exit_stats='aborted'.\nRE.stop()      Perform cleanup, then kill plan. Mark exit_status='success'.\nRE.halt()      Emergency Stop: Do not perform cleanup --- just stop.\n",
     "output_type": "error",
     "traceback": [
      "\u001b[0;31m---------------------------------------------------------------------------\u001b[0m",
      "\u001b[0;31mRunEngineInterrupted\u001b[0m                      Traceback (most recent call last)",
      "\u001b[0;32m<ipython-input-8-3bab27d13a5c>\u001b[0m in \u001b[0;36m<module>\u001b[0;34m()\u001b[0m\n\u001b[1;32m      1\u001b[0m \u001b[0;31m# suspend_plc_protect_operations_status.allow_resume = True\u001b[0m\u001b[0;34m\u001b[0m\u001b[0;34m\u001b[0m\u001b[0m\n\u001b[0;32m----> 2\u001b[0;31m \u001b[0mRE\u001b[0m\u001b[0;34m(\u001b[0m\u001b[0mbp\u001b[0m\u001b[0;34m.\u001b[0m\u001b[0mcount\u001b[0m\u001b[0;34m(\u001b[0m\u001b[0;34m[\u001b[0m\u001b[0mdet\u001b[0m\u001b[0;34m]\u001b[0m\u001b[0;34m,\u001b[0m \u001b[0mnum\u001b[0m\u001b[0;34m=\u001b[0m\u001b[0;36m10\u001b[0m\u001b[0;34m,\u001b[0m \u001b[0mdelay\u001b[0m\u001b[0;34m=\u001b[0m\u001b[0;36m1\u001b[0m\u001b[0;34m)\u001b[0m\u001b[0;34m,\u001b[0m \u001b[0mLiveTable\u001b[0m\u001b[0;34m(\u001b[0m\u001b[0;34m[\u001b[0m\u001b[0mdet\u001b[0m\u001b[0;34m]\u001b[0m\u001b[0;34m)\u001b[0m\u001b[0;34m)\u001b[0m\u001b[0;34m\u001b[0m\u001b[0m\n\u001b[0m",
      "\u001b[0;32m~/Apps/BlueSky/lib/python3.6/site-packages/bluesky/run_engine.py\u001b[0m in \u001b[0;36m__call__\u001b[0;34m(self, *args, **metadata_kw)\u001b[0m\n\u001b[1;32m    745\u001b[0m \u001b[0;34m\u001b[0m\u001b[0m\n\u001b[1;32m    746\u001b[0m             \u001b[0;32mif\u001b[0m \u001b[0mself\u001b[0m\u001b[0;34m.\u001b[0m\u001b[0m_interrupted\u001b[0m\u001b[0;34m:\u001b[0m\u001b[0;34m\u001b[0m\u001b[0m\n\u001b[0;32m--> 747\u001b[0;31m                 \u001b[0;32mraise\u001b[0m \u001b[0mRunEngineInterrupted\u001b[0m\u001b[0;34m(\u001b[0m\u001b[0mself\u001b[0m\u001b[0;34m.\u001b[0m\u001b[0mpause_msg\u001b[0m\u001b[0;34m)\u001b[0m \u001b[0;32mfrom\u001b[0m \u001b[0;32mNone\u001b[0m\u001b[0;34m\u001b[0m\u001b[0m\n\u001b[0m\u001b[1;32m    748\u001b[0m \u001b[0;34m\u001b[0m\u001b[0m\n\u001b[1;32m    749\u001b[0m         \u001b[0;32mreturn\u001b[0m \u001b[0mtuple\u001b[0m\u001b[0;34m(\u001b[0m\u001b[0mself\u001b[0m\u001b[0;34m.\u001b[0m\u001b[0m_run_start_uids\u001b[0m\u001b[0;34m)\u001b[0m\u001b[0;34m\u001b[0m\u001b[0m\n",
      "\u001b[0;31mRunEngineInterrupted\u001b[0m: \nYour RunEngine is entering a paused state. These are your options for changing\nthe state of the RunEngine:\n\nRE.resume()    Resume the plan.\nRE.abort()     Perform cleanup, then kill plan. Mark exit_stats='aborted'.\nRE.stop()      Perform cleanup, then kill plan. Mark exit_status='success'.\nRE.halt()      Emergency Stop: Do not perform cleanup --- just stop.\n"
     ]
    }
   ],
   "source": [
    "# suspend_plc_protect_operations_status.allow_resume = True\n",
    "RE(bp.count([det], num=10, delay=1), LiveTable([det]))"
   ]
  },
  {
   "cell_type": "code",
   "execution_count": 9,
   "metadata": {},
   "outputs": [
    {
     "name": "stdout",
     "output_type": "stream",
     "text": [
      "Aborting: running cleanup and marking exit_status as 'abort'...\n",
      "+-----------+------------+------------+\n",
      "generator count ['7c8689e8'] (scan num: 1)\n"
     ]
    },
    {
     "data": {
      "text/plain": [
       "['7c8689e8-f49d-4ef1-826c-a9419c9eba4b']"
      ]
     },
     "execution_count": 9,
     "metadata": {},
     "output_type": "execute_result"
    }
   ],
   "source": [
    "RE.abort()"
   ]
  },
  {
   "cell_type": "code",
   "execution_count": null,
   "metadata": {},
   "outputs": [],
   "source": []
  }
 ],
 "metadata": {
  "kernelspec": {
   "display_name": "Python 3",
   "language": "python",
   "name": "python3"
  },
  "language_info": {
   "codemirror_mode": {
    "name": "ipython",
    "version": 3
   },
   "file_extension": ".py",
   "mimetype": "text/x-python",
   "name": "python",
   "nbconvert_exporter": "python",
   "pygments_lexer": "ipython3",
   "version": "3.6.2"
  }
 },
 "nbformat": 4,
 "nbformat_minor": 2
}
