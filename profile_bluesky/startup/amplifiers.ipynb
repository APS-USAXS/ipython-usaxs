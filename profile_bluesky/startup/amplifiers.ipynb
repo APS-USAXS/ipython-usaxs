{
 "cells": [
  {
   "cell_type": "markdown",
   "metadata": {},
   "source": [
    "# Amplifier Support\n",
    "\n",
    "Work out the data structures to support the detectors (not area detectors) and amplifiers used by the USAXS.\n",
    "\n",
    "Basic setup."
   ]
  },
  {
   "cell_type": "code",
   "execution_count": 1,
   "metadata": {},
   "outputs": [],
   "source": [
    "from collections import OrderedDict\n",
    "import epics\n",
    "import logging\n",
    "import threading\n",
    "import time\n",
    "\n",
    "from ophyd import Device, Component, EpicsSignal, EpicsSignalRO, EpicsScaler\n",
    "from ophyd import FormattedComponent, DynamicDeviceComponent\n",
    "import bluesky\n",
    "import bluesky.plans\n",
    "import databroker\n",
    "\n",
    "FORMAT = '%(asctime)s %(levelname)s %(name)s - %(message)s'\n",
    "logger = logging.getLogger()\n",
    "logging.basicConfig(level=logging.INFO, format=FORMAT)\n",
    "\n",
    "RE = bluesky.RunEngine({})\n",
    "db = databroker.Broker.named(\"mongodb_config\")\n",
    "RE.subscribe(db.insert)\n",
    "RE.msg_hook = bluesky.utils.ts_msg_hook"
   ]
  },
  {
   "cell_type": "markdown",
   "metadata": {},
   "source": [
    "## simple amplifier device"
   ]
  },
  {
   "cell_type": "code",
   "execution_count": 2,
   "metadata": {},
   "outputs": [],
   "source": [
    "class CurrentAmplifierDevice(Device):\n",
    "    gain = Component(EpicsSignalRO, \"gain\")\n",
    "\n",
    "\n",
    "class FemtoAmplifierDevice(CurrentAmplifierDevice):\n",
    "    gainindex = Component(EpicsSignal, \"gainidx\")\n",
    "    description = Component(EpicsSignal, \"femtodesc\")"
   ]
  },
  {
   "cell_type": "markdown",
   "metadata": {},
   "source": [
    "### Table of detectors and related support\n",
    "\n",
    "```\n",
    "========  =================  ====================  ===================  ===========\n",
    "detector  scaler             amplifier             sequence             Femto model\n",
    "========  =================  ====================  ===================  ===========\n",
    "UPD       9idcLAX:vsc:c0.S4  9idcLAX:fem01:seq01:  9idcLAX:pd01:seq01:  DLPCA200\n",
    "UPD       9idcLAX:vsc:c0.S4  9idcLAX:fem09:seq02:  9idcLAX:pd01:seq02:  DDPCA300\n",
    "I0        9idcLAX:vsc:c0.S2  9idcRIO:fem02:seq01:  9idcLAX:pd02:seq01:\n",
    "I00       9idcLAX:vsc:c0.S3  9idcRIO:fem03:seq01:  9idcLAX:pd03:seq01:\n",
    "I000      9idcLAX:vsc:c0.S6  9idcRIO:fem04:seq01:  None\n",
    "TRD       9idcLAX:vsc:c0.S5  9idcRIO:fem05:seq01:  9idcLAX:pd05:seq01:\n",
    "========  =================  ====================  ===================  ===========\n",
    "```\n",
    "\n",
    "A PV (``9idcLAX:femto:model``) tells which UPD amplifier and sequence \n",
    "programs we're using now.  This PV is read-only since it is set when \n",
    "IOC boots, based on a soft link that configures the IOC.  The soft \n",
    "link may be changed using the ``use200pd``  or  ``use300pd`` script.\n",
    "\n",
    "We only need to get this once, get it via one-time call with PyEpics\n",
    "and then use it with inline dictionaries to pick the right PVs.\n"
   ]
  },
  {
   "cell_type": "code",
   "execution_count": 3,
   "metadata": {},
   "outputs": [
    {
     "name": "stdout",
     "output_type": "stream",
     "text": [
      "UPD amplifier:  DDPCA300\n"
     ]
    }
   ],
   "source": [
    "_amplifier_id_upd = epics.caget(\"9idcLAX:femto:model\", as_string=True)\n",
    "print(\"UPD amplifier: \", _amplifier_id_upd)"
   ]
  },
  {
   "cell_type": "code",
   "execution_count": 4,
   "metadata": {},
   "outputs": [],
   "source": [
    "UPD_femto  = FemtoAmplifierDevice(\n",
    "    dict(\n",
    "        DLPCA200 = \"9idcLAX:fem01:seq01:\",\n",
    "        DDPCA300 = \"9idcLAX:fem09:seq02:\",\n",
    "    )[_amplifier_id_upd],\n",
    "    name='upd_femto')"
   ]
  },
  {
   "cell_type": "code",
   "execution_count": 5,
   "metadata": {},
   "outputs": [
    {
     "data": {
      "text/plain": [
       "OrderedDict([('upd_femto_gain',\n",
       "              {'timestamp': 1527005502.683289, 'value': 1000000000000.0}),\n",
       "             ('upd_femto_gainindex',\n",
       "              {'timestamp': 1527005502.683289, 'value': 8}),\n",
       "             ('upd_femto_description',\n",
       "              {'timestamp': 631152000.0, 'value': 'New Femto300 PD'})])"
      ]
     },
     "execution_count": 5,
     "metadata": {},
     "output_type": "execute_result"
    }
   ],
   "source": [
    "while not UPD_femto.connected:\n",
    "    time.sleep(0.1)\n",
    "UPD_femto.read()"
   ]
  },
  {
   "cell_type": "markdown",
   "metadata": {},
   "source": [
    "## scaler channel"
   ]
  },
  {
   "cell_type": "code",
   "execution_count": 6,
   "metadata": {},
   "outputs": [],
   "source": [
    "scaler0 = EpicsScaler('9idcLAX:vsc:c0', name='scaler0')"
   ]
  },
  {
   "cell_type": "code",
   "execution_count": 7,
   "metadata": {},
   "outputs": [
    {
     "data": {
      "text/plain": [
       "OrderedDict([('scaler0_channels_chan10',\n",
       "              {'timestamp': 1524941203.16494, 'value': 0.0}),\n",
       "             ('scaler0_channels_chan15',\n",
       "              {'timestamp': 1524941203.16494, 'value': 0.0}),\n",
       "             ('scaler0_channels_chan18',\n",
       "              {'timestamp': 1524941203.16494, 'value': 0.0}),\n",
       "             ('scaler0_channels_chan7',\n",
       "              {'timestamp': 1524941203.16494, 'value': 0.0}),\n",
       "             ('scaler0_channels_chan21',\n",
       "              {'timestamp': 1524941203.16494, 'value': 0.0}),\n",
       "             ('scaler0_channels_chan17',\n",
       "              {'timestamp': 1524941203.16494, 'value': 0.0}),\n",
       "             ('scaler0_channels_chan16',\n",
       "              {'timestamp': 1524941203.16494, 'value': 0.0}),\n",
       "             ('scaler0_channels_chan12',\n",
       "              {'timestamp': 1524941203.16494, 'value': 0.0}),\n",
       "             ('scaler0_channels_chan4',\n",
       "              {'timestamp': 1524941203.16494, 'value': 104374.0}),\n",
       "             ('scaler0_channels_chan8',\n",
       "              {'timestamp': 1524941203.16494, 'value': 0.0}),\n",
       "             ('scaler0_channels_chan30',\n",
       "              {'timestamp': 1524941203.16494, 'value': 0.0}),\n",
       "             ('scaler0_channels_chan27',\n",
       "              {'timestamp': 1524941203.16494, 'value': 0.0}),\n",
       "             ('scaler0_channels_chan32',\n",
       "              {'timestamp': 1524941203.16494, 'value': 0.0}),\n",
       "             ('scaler0_channels_chan19',\n",
       "              {'timestamp': 1524941203.16494, 'value': 0.0}),\n",
       "             ('scaler0_channels_chan2',\n",
       "              {'timestamp': 1524941203.16494, 'value': 30456.0}),\n",
       "             ('scaler0_channels_chan9',\n",
       "              {'timestamp': 1524941203.16494, 'value': 0.0}),\n",
       "             ('scaler0_channels_chan22',\n",
       "              {'timestamp': 1524941203.16494, 'value': 0.0}),\n",
       "             ('scaler0_channels_chan20',\n",
       "              {'timestamp': 1524941203.16494, 'value': 0.0}),\n",
       "             ('scaler0_channels_chan28',\n",
       "              {'timestamp': 1524941203.16494, 'value': 0.0}),\n",
       "             ('scaler0_channels_chan14',\n",
       "              {'timestamp': 1524941203.16494, 'value': 0.0}),\n",
       "             ('scaler0_channels_chan5',\n",
       "              {'timestamp': 1524941203.16494, 'value': 1.0}),\n",
       "             ('scaler0_channels_chan1',\n",
       "              {'timestamp': 1524941203.16494, 'value': 10000000.0}),\n",
       "             ('scaler0_channels_chan31',\n",
       "              {'timestamp': 1524941203.16494, 'value': 0.0}),\n",
       "             ('scaler0_channels_chan6',\n",
       "              {'timestamp': 1524941203.16494, 'value': 0.0}),\n",
       "             ('scaler0_channels_chan24',\n",
       "              {'timestamp': 1524941203.16494, 'value': 0.0}),\n",
       "             ('scaler0_channels_chan29',\n",
       "              {'timestamp': 1524941203.16494, 'value': 0.0}),\n",
       "             ('scaler0_channels_chan13',\n",
       "              {'timestamp': 1524941203.16494, 'value': 0.0}),\n",
       "             ('scaler0_channels_chan25',\n",
       "              {'timestamp': 1524941203.16494, 'value': 0.0}),\n",
       "             ('scaler0_channels_chan26',\n",
       "              {'timestamp': 1524941203.16494, 'value': 0.0}),\n",
       "             ('scaler0_channels_chan11',\n",
       "              {'timestamp': 1524941203.16494, 'value': 0.0}),\n",
       "             ('scaler0_channels_chan23',\n",
       "              {'timestamp': 1524941203.16494, 'value': 0.0}),\n",
       "             ('scaler0_channels_chan3',\n",
       "              {'timestamp': 1524941203.16494, 'value': 31630.0}),\n",
       "             ('scaler0_time', {'timestamp': 1524941203.16494, 'value': 1.0})])"
      ]
     },
     "execution_count": 7,
     "metadata": {},
     "output_type": "execute_result"
    }
   ],
   "source": [
    "scaler0.read()"
   ]
  },
  {
   "cell_type": "markdown",
   "metadata": {},
   "source": [
    "That's too many channels.  Let's find out (and reconfigure ophyd to read only) the *interesting* channels (the ones with names assigned by users)."
   ]
  },
  {
   "cell_type": "code",
   "execution_count": 8,
   "metadata": {},
   "outputs": [
    {
     "name": "stdout",
     "output_type": "stream",
     "text": [
      "9idcLAX:vsc:c0.S0 chan1 seconds\n",
      "9idcLAX:vsc:c0.S1 chan2 I0_USAXS\n",
      "9idcLAX:vsc:c0.S2 chan3 I00_USAXS\n",
      "9idcLAX:vsc:c0.S3 chan4 PD_USAXS\n",
      "9idcLAX:vsc:c0.S4 chan5 TR diode\n",
      "9idcLAX:vsc:c0.S5 chan6 I000\n"
     ]
    },
    {
     "data": {
      "text/plain": [
       "OrderedDict([('scaler0_channels_chan1',\n",
       "              {'timestamp': 1524941203.16494, 'value': 10000000.0}),\n",
       "             ('scaler0_channels_chan2',\n",
       "              {'timestamp': 1524941203.16494, 'value': 30456.0}),\n",
       "             ('scaler0_channels_chan3',\n",
       "              {'timestamp': 1524941203.16494, 'value': 31630.0}),\n",
       "             ('scaler0_channels_chan4',\n",
       "              {'timestamp': 1524941203.16494, 'value': 104374.0}),\n",
       "             ('scaler0_channels_chan5',\n",
       "              {'timestamp': 1524941203.16494, 'value': 1.0}),\n",
       "             ('scaler0_channels_chan6',\n",
       "              {'timestamp': 1524941203.16494, 'value': 0.0}),\n",
       "             ('scaler0_time', {'timestamp': 1524941203.16494, 'value': 1.0})])"
      ]
     },
     "execution_count": 8,
     "metadata": {},
     "output_type": "execute_result"
    }
   ],
   "source": [
    "def use_EPICS_scaler_channels(scaler):\n",
    "    \"\"\"\n",
    "    configure scaler for only the channels with names assigned in EPICS \n",
    "    \"\"\"\n",
    "    read_attrs = []\n",
    "    for ch in scaler.channels.component_names:\n",
    "        _nam = epics.caget(\"{}.NM{}\".format(scaler.prefix, int(ch[4:])))\n",
    "        if len(_nam.strip()) > 0:\n",
    "            read_attrs.append(ch)\n",
    "            print(\"{}.S{}\".format(scaler.prefix,int(ch[4:])-1), ch, _nam)\n",
    "    scaler.channels.read_attrs = read_attrs\n",
    "\n",
    "use_EPICS_scaler_channels(scaler0)\n",
    "scaler0.read()"
   ]
  },
  {
   "cell_type": "markdown",
   "metadata": {},
   "source": [
    "## Autorange support\n",
    "\n",
    "Most of these detector amplifiers have sequence program support to adjust the gain automatically.  The programs are all built from the same model, allowing the choice of five different possible choices for gain.\n",
    "\n",
    "The software operates in three modes: *automatic*, *auto+background*, and *manual*."
   ]
  },
  {
   "cell_type": "code",
   "execution_count": 9,
   "metadata": {},
   "outputs": [],
   "source": [
    "class AutorangeSettings(object):\n",
    "    \"\"\"values allowed for sequence program's ``reqrange`` PV\"\"\"\n",
    "    automatic = \"automatic\"\n",
    "    auto_background = \"auto+background\"\n",
    "    manual = \"manual\""
   ]
  },
  {
   "cell_type": "markdown",
   "metadata": {},
   "source": [
    "A first attempt to provide for the sequence program support defines the gain (but makes it harder to interface if the choices are different than what has been programmed)."
   ]
  },
  {
   "cell_type": "code",
   "execution_count": 10,
   "metadata": {},
   "outputs": [],
   "source": [
    "class DiodeRangeDevice(Device):\n",
    "    _default_configuration_attrs = ()\n",
    "    _default_read_attrs = ('gain', 'background', 'background_error')\n",
    "\n",
    "    gain = FormattedComponent(EpicsSignal, '{self.prefix}gain{self._ch_num}')\n",
    "    background = FormattedComponent(EpicsSignal, '{self.prefix}bkg{self._ch_num}')\n",
    "    background_error = FormattedComponent(EpicsSignal, '{self.prefix}bkgErr{self._ch_num}')\n",
    "\n",
    "    def __init__(self, prefix, ch_num=None, **kwargs):\n",
    "        assert ch_num is not None, \"Must provide `ch_num=` keyword argument.\"\n",
    "        self._ch_num = ch_num\n",
    "        super().__init__(prefix, **kwargs)\n",
    "\n",
    "\n",
    "class AmplifierSequenceControlsDevice(CurrentAmplifierDevice):\n",
    "    \"\"\"\n",
    "    Ophyd support for amplifier sequence program\n",
    "    \"\"\"\n",
    "    reqrange = Component(EpicsSignal, \"reqrange\")\n",
    "    mode = Component(EpicsSignal, \"mode\")\n",
    "    selected = Component(EpicsSignal, \"selected\")\n",
    "    gainU = Component(EpicsSignal, \"gainU\")\n",
    "    gainD = Component(EpicsSignal, \"gainD\")\n",
    "    range0 = Component(DiodeRangeDevice, '', ch_num=0)\n",
    "    range1 = Component(DiodeRangeDevice, '', ch_num=1)\n",
    "    range2 = Component(DiodeRangeDevice, '', ch_num=2)\n",
    "    range3 = Component(DiodeRangeDevice, '', ch_num=3)\n",
    "    range4 = Component(DiodeRangeDevice, '', ch_num=4)\n",
    "    counts_per_volt = Component(EpicsSignal, \"vfc\")\n",
    "    status = Component(EpicsSignalRO, \"updating\")\n",
    "    lurange = Component(EpicsSignalRO, \"lurange\")\n",
    "    lucounts = Component(EpicsSignalRO, \"lucounts\")\n",
    "    lurate = Component(EpicsSignalRO, \"lurate\")\n",
    "    lucurrent = Component(EpicsSignalRO, \"lucurrent\")\n",
    "    updating = Component(EpicsSignalRO, \"updating\")\n",
    "\n",
    "    def __init__(self, prefix, **kwargs):\n",
    "        self.scaler = None\n",
    "        super().__init__(prefix, **kwargs)\n",
    "\n",
    "    def measure_dark_currents(self, numReadings=8):     # TODO: part of #16\n",
    "        \"\"\"\n",
    "        \"\"\"\n",
    "        assert self.scaler is not None, \"Must define the `scaler`.\"\n",
    "        pass\n",
    "\n",
    "    def autoscale(self):                                # TODO: #16\n",
    "        \"\"\"\n",
    "        \"\"\"\n",
    "        assert self.scaler is not None, \"Must define the `scaler`.\"\n",
    "        pass\n",
    "\n",
    "    @property\n",
    "    def isUpdating(self):\n",
    "        v = self.mode.value in (1, AutorangeSettings.auto_background)\n",
    "        if v:\n",
    "            v = self.updating.value in (1, \"Updating\")\n",
    "        return v\n",
    "\n",
    "    def _decode_gain_target(self, target):\n",
    "        \"\"\"\n",
    "        returns gain setting from requested ``target`` value\n",
    "\n",
    "        Should override in subclass to customize for different \n",
    "        amplifiers.  These are for USAXS photodiode.\n",
    "\n",
    "        PARAMETERS\n",
    "\n",
    "        target : int\n",
    "            one of (4, 6, 8, 10, 12)\n",
    "            corresponding, respectively, to gains of (1e4, 1e6, 1e8, 1e10, 1e12)\n",
    "\n",
    "\n",
    "        EXAMPLE CONTENT::\n",
    "\n",
    "            gain_list = (4, 6, 8, 10, 12)\n",
    "            err_msg = \"supplied value ({}) not one of these: {}\".format(\n",
    "                target, gain_list)\n",
    "            assert target in gain_list, err_msg\n",
    "            return gain_list.index(target)\n",
    "\n",
    "        \"\"\"\n",
    "        raise NotImplementedError(\"Must define in subclass\")\n",
    "\n",
    "    def set_gain_plan(self, target):\n",
    "        \"\"\"\n",
    "        set gain on amplifier during a BlueSky plan\n",
    "\n",
    "        Only use low noise gains; those are the only ones which actually work\n",
    "        \"\"\"\n",
    "        yield from bps.abs_set(self.mode, AutorangeSettings.manual)\n",
    "        yield from bps.abs_set(self.reqrange, self._decode_gain_target(target))\n",
    "\n",
    "    def set_gain_cmd(self, target):\n",
    "        \"\"\"\n",
    "        set gain on amplifier directly, do not use during a BlueSky plan\n",
    "\n",
    "        Only use low noise gains; those are the only ones which actually work\n",
    "        \"\"\"\n",
    "        self.mode.put(AutorangeSettings.manual)\n",
    "        self.reqrange.put(self._decode_gain_target(target))"
   ]
  },
  {
   "cell_type": "markdown",
   "metadata": {},
   "source": [
    "That defines some generic support.  Now we create subclasses to define the specific ranges and how to set them."
   ]
  },
  {
   "cell_type": "code",
   "execution_count": 11,
   "metadata": {},
   "outputs": [],
   "source": [
    "class UPD_AmplifierSequenceControlsDevice(AmplifierSequenceControlsDevice):\n",
    "\n",
    "    def _decode_gain_target(self, target):\n",
    "        \"\"\"\n",
    "        converts ``target`` value to gain (index) value for USAXS photodiode\n",
    "\n",
    "        PARAMETERS\n",
    "\n",
    "        target : int\n",
    "            one of (4, 6, 8, 10, 12)\n",
    "            corresponding, respectively, to gains of (1e4, 1e6, 1e8, 1e10, 1e12)\n",
    "\n",
    "        \"\"\"\n",
    "        gain_list = (4, 6, 8, 10, 12)\n",
    "        err_msg = \"`target` must be one of these values: {}\".format(gain_list)\n",
    "        assert target in gain_list, err_msg\n",
    "        return gain_list.index(target)\n",
    "\n",
    "\n",
    "class TRD_AmplifierSequenceControlsDevice(AmplifierSequenceControlsDevice):\n",
    "\n",
    "    def _decode_gain_target(self, target):\n",
    "        gain_list = (5, 6, 7, 8, 9, 10)\n",
    "        err_msg = \"`target` must be one of these values: {}\".format(gain_list)\n",
    "        assert target in gain_list, err_msg\n",
    "        if target < 10:\n",
    "            fmt = \"1e{} low noise\"\n",
    "        else:\n",
    "            fmt = \"1e{} high speed\"\n",
    "        return fmt.format(target)\n"
   ]
  },
  {
   "cell_type": "markdown",
   "metadata": {},
   "source": [
    "Connect that structure with the sequence controls for the UPD detector."
   ]
  },
  {
   "cell_type": "code",
   "execution_count": 12,
   "metadata": {},
   "outputs": [],
   "source": [
    "UPD_seq = UPD_AmplifierSequenceControlsDevice(\n",
    "    dict(\n",
    "        DLPCA200 = \"9idcLAX:pd01:seq01:\",\n",
    "        DDPCA300 = \"9idcLAX:pd01:seq02:\",\n",
    "    )[_amplifier_id_upd],\n",
    "    name=\"UPD_seq\")"
   ]
  },
  {
   "cell_type": "code",
   "execution_count": 13,
   "metadata": {},
   "outputs": [
    {
     "data": {
      "text/plain": [
       "OrderedDict([('UPD_seq_gain',\n",
       "              {'timestamp': 1527084381.286855, 'value': 1000000000000.0}),\n",
       "             ('UPD_seq_reqrange',\n",
       "              {'timestamp': 1527084381.286855, 'value': 4}),\n",
       "             ('UPD_seq_mode', {'timestamp': 1526924030.29391, 'value': 2}),\n",
       "             ('UPD_seq_selected', {'timestamp': 631152000.0, 'value': 0}),\n",
       "             ('UPD_seq_gainU',\n",
       "              {'timestamp': 1524632376.675726, 'value': 4000.0}),\n",
       "             ('UPD_seq_gainD',\n",
       "              {'timestamp': 1524632376.675726, 'value': 650000.0}),\n",
       "             ('UPD_seq_range0_gain',\n",
       "              {'timestamp': 631152000.0, 'value': 10000.0}),\n",
       "             ('UPD_seq_range0_background',\n",
       "              {'timestamp': 1524630657.499278, 'value': 5.0}),\n",
       "             ('UPD_seq_range0_background_error',\n",
       "              {'timestamp': 1524630657.499278, 'value': 0.0}),\n",
       "             ('UPD_seq_range1_gain',\n",
       "              {'timestamp': 631152000.0, 'value': 1000000.0}),\n",
       "             ('UPD_seq_range1_background',\n",
       "              {'timestamp': 1524630656.249278, 'value': 5.0}),\n",
       "             ('UPD_seq_range1_background_error',\n",
       "              {'timestamp': 1524630656.249278, 'value': 0.0}),\n",
       "             ('UPD_seq_range2_gain',\n",
       "              {'timestamp': 631152000.0, 'value': 100000000.0}),\n",
       "             ('UPD_seq_range2_background',\n",
       "              {'timestamp': 1524630654.982611, 'value': 5.0}),\n",
       "             ('UPD_seq_range2_background_error',\n",
       "              {'timestamp': 1524630654.982611, 'value': 0.0}),\n",
       "             ('UPD_seq_range3_gain',\n",
       "              {'timestamp': 631152000.0, 'value': 10000000000.0}),\n",
       "             ('UPD_seq_range3_background',\n",
       "              {'timestamp': 1524630653.732611, 'value': 1063.0}),\n",
       "             ('UPD_seq_range3_background_error',\n",
       "              {'timestamp': 1524630653.732611, 'value': 41.1703777004778}),\n",
       "             ('UPD_seq_range4_gain',\n",
       "              {'timestamp': 631152000.0, 'value': 1000000000000.0}),\n",
       "             ('UPD_seq_range4_background',\n",
       "              {'timestamp': 1524630651.449278, 'value': 100229.0}),\n",
       "             ('UPD_seq_range4_background_error',\n",
       "              {'timestamp': 1524630651.449278, 'value': 2769.7053092341794}),\n",
       "             ('UPD_seq_counts_per_volt',\n",
       "              {'timestamp': 631152000.0, 'value': 100000.0}),\n",
       "             ('UPD_seq_status', {'timestamp': 1524632401.009059, 'value': 0}),\n",
       "             ('UPD_seq_lurange', {'timestamp': 1527005502.983289, 'value': 4}),\n",
       "             ('UPD_seq_lucounts',\n",
       "              {'timestamp': 1527084381.286855, 'value': 104374}),\n",
       "             ('UPD_seq_lurate',\n",
       "              {'timestamp': 1527084381.286855, 'value': 104374.0}),\n",
       "             ('UPD_seq_lucurrent',\n",
       "              {'timestamp': 1527084381.286855, 'value': 4.145e-14}),\n",
       "             ('UPD_seq_updating',\n",
       "              {'timestamp': 1524632401.009059, 'value': 0})])"
      ]
     },
     "execution_count": 13,
     "metadata": {},
     "output_type": "execute_result"
    }
   ],
   "source": [
    "while not UPD_seq.connected:\n",
    "    time.sleep(0.1)\n",
    "UPD_seq.read()"
   ]
  },
  {
   "cell_type": "markdown",
   "metadata": {},
   "source": [
    "-----------\n",
    "\n",
    "# Questions about this support before we continue\n",
    "\n",
    "1. Since the sequence program knows (from st.cmd) to which amplifier and scaler it is using (and this configuration is not available in any EPICS PVs), must we need coordinate that here as well?\n",
    "1. Can we create a device so that we pass the custom ranges as arguments to the constructor?\n",
    "1. Should the number of gains be created dynamically?\n",
    "1. Is there a problem with creating more than one ophyd connection to any PV?"
   ]
  },
  {
   "cell_type": "markdown",
   "metadata": {},
   "source": [
    "## Answers\n",
    "\n",
    "1. Seems like a good idea.  Make one device with all related signals. Build on previously-defined structures, if possible.  Needs a custom constructor since three PVs will be passed in the setup.\n",
    "2. Add that to the new device.  Use `ophyd.DynamicDeviceComponent` similar to `ophyd.EpicsScaler`.\n",
    "   **BUT**, the ranges may be obtained from the sequence program's `reqrange` `enum_strs`!\n",
    "3. Like above.  **BUT**, this has to match what is provided by the EPICS database.\n",
    "4. Don't know.  Good question for Tom Caswell."
   ]
  },
  {
   "cell_type": "markdown",
   "metadata": {},
   "source": [
    "# Round 2: Combined scaler, amplifier, autorange controls device\n",
    "\n",
    "First, show how to setup the class"
   ]
  },
  {
   "cell_type": "code",
   "execution_count": 14,
   "metadata": {},
   "outputs": [],
   "source": [
    "class DetectorAmplifierAutorangeDevice(Device):\n",
    "    \n",
    "    def __init__(self, autorange_pv, scaler_channel_pv, amplifier_pv, ranges, **kwargs):\n",
    "        self.autorange_pv = autorange_pv\n",
    "        self.scaler_channel_pv = scaler_channel_pv\n",
    "        self.amplifier_pv = amplifier_pv\n",
    "        self.ranges = ranges\n",
    "        super().__init__(autorange_pv, **kwargs)\n",
    "\n",
    "upd_struct = DetectorAmplifierAutorangeDevice(\n",
    "    \"9idcLAX:pd01:seq02:\",\n",
    "    \"9idcLAX:vsc:c0.S4\",\n",
    "    \"9idcLAX:fem09:seq02:\",\n",
    "    {\"1e4\":4, \"1e6\":6, \"1e8\":8, \"1e10\":10, \"1e12\":12},\n",
    "    name=\"upd_struct\",\n",
    ")"
   ]
  },
  {
   "cell_type": "code",
   "execution_count": 15,
   "metadata": {},
   "outputs": [
    {
     "data": {
      "text/plain": [
       "OrderedDict()"
      ]
     },
     "execution_count": 15,
     "metadata": {},
     "output_type": "execute_result"
    }
   ],
   "source": [
    "upd_struct.read()"
   ]
  },
  {
   "cell_type": "markdown",
   "metadata": {},
   "source": [
    "To allow for a dynamic number of ranges, we need to treat them as a subgroup.  Redefine previous `AmplifierSequenceControlsDevice`."
   ]
  },
  {
   "cell_type": "code",
   "execution_count": 16,
   "metadata": {},
   "outputs": [],
   "source": [
    "def _ranges_subgroup_(cls, nm, suffix, ranges, **kwargs):\n",
    "    defn = OrderedDict()\n",
    "    for i in ranges:\n",
    "        key = '{}{}'.format(nm, i)\n",
    "        defn[key] = (cls, '', dict(ch_num=i))\n",
    "\n",
    "    return defn\n",
    "\n",
    "\n",
    "class AmplifierSequenceControlsDevice(CurrentAmplifierDevice):\n",
    "    \"\"\"\n",
    "    Ophyd support for amplifier sequence program\n",
    "    \"\"\"\n",
    "    reqrange = Component(EpicsSignal, \"reqrange\")\n",
    "    mode = Component(EpicsSignal, \"mode\")\n",
    "    selected = Component(EpicsSignal, \"selected\")\n",
    "    gainU = Component(EpicsSignal, \"gainU\")\n",
    "    gainD = Component(EpicsSignal, \"gainD\")\n",
    "    ranges = DynamicDeviceComponent(\n",
    "        _ranges_subgroup_(\n",
    "            DiodeRangeDevice, 'range', 'suffix', range(5)))\n",
    "    counts_per_volt = Component(EpicsSignal, \"vfc\")\n",
    "    status = Component(EpicsSignalRO, \"updating\")\n",
    "    lurange = Component(EpicsSignalRO, \"lurange\")\n",
    "    lucounts = Component(EpicsSignalRO, \"lucounts\")\n",
    "    lurate = Component(EpicsSignalRO, \"lurate\")\n",
    "    lucurrent = Component(EpicsSignalRO, \"lucurrent\")\n",
    "    updating = Component(EpicsSignalRO, \"updating\")\n",
    "\n",
    "    def __init__(self, prefix, **kwargs):\n",
    "        self.scaler = None\n",
    "        super().__init__(prefix, **kwargs)\n",
    "\n",
    "    def measure_dark_currents(self, numReadings=8):     # TODO: part of #16\n",
    "        \"\"\"\n",
    "        \"\"\"\n",
    "        assert self.scaler is not None, \"Must define the `scaler`.\"\n",
    "        pass\n",
    "\n",
    "    def autoscale(self):                                # TODO: #16\n",
    "        \"\"\"\n",
    "        \"\"\"\n",
    "        assert self.scaler is not None, \"Must define the `scaler`.\"\n",
    "        pass\n",
    "\n",
    "    @property\n",
    "    def isUpdating(self):\n",
    "        v = self.mode.value in (1, AutorangeSettings.auto_background)\n",
    "        if v:\n",
    "            v = self.updating.value in (1, \"Updating\")\n",
    "        return v\n",
    "\n",
    "    def _decode_gain_target(self, target):\n",
    "        \"\"\"\n",
    "        returns gain setting from requested ``target`` value\n",
    "\n",
    "        Should override in subclass to customize for different \n",
    "        amplifiers.  These are for USAXS photodiode.\n",
    "\n",
    "        PARAMETERS\n",
    "\n",
    "        target : int\n",
    "            one of (4, 6, 8, 10, 12)\n",
    "            corresponding, respectively, to gains of (1e4, 1e6, 1e8, 1e10, 1e12)\n",
    "\n",
    "\n",
    "        EXAMPLE CONTENT::\n",
    "\n",
    "            gain_list = (4, 6, 8, 10, 12)\n",
    "            err_msg = \"supplied value ({}) not one of these: {}\".format(\n",
    "                target, gain_list)\n",
    "            assert target in gain_list, err_msg\n",
    "            return gain_list.index(target)\n",
    "\n",
    "        \"\"\"\n",
    "        raise NotImplementedError(\"Must define in subclass\")\n",
    "\n",
    "    def set_gain_plan(self, target):\n",
    "        \"\"\"\n",
    "        set gain on amplifier during a BlueSky plan\n",
    "\n",
    "        Only use low noise gains; those are the only ones which actually work\n",
    "        \"\"\"\n",
    "        yield from bps.abs_set(self.mode, AutorangeSettings.manual)\n",
    "        yield from bps.abs_set(self.reqrange, self._decode_gain_target(target))\n",
    "\n",
    "    def set_gain_cmd(self, target):\n",
    "        \"\"\"\n",
    "        set gain on amplifier directly, do not use during a BlueSky plan\n",
    "\n",
    "        Only use low noise gains; those are the only ones which actually work\n",
    "        \"\"\"\n",
    "        self.mode.put(AutorangeSettings.manual)\n",
    "        self.reqrange.put(self._decode_gain_target(target))"
   ]
  },
  {
   "cell_type": "markdown",
   "metadata": {},
   "source": [
    "Next, connect up the existing structures"
   ]
  },
  {
   "cell_type": "code",
   "execution_count": 17,
   "metadata": {
    "scrolled": true
   },
   "outputs": [],
   "source": [
    "class DetectorAmplifierAutorangeDevice(Device):\n",
    "    scaler = FormattedComponent(EpicsSignal, '{self.scaler_channel_pv}')\n",
    "    femto = FormattedComponent(FemtoAmplifierDevice, '{self.amplifier_pv}')\n",
    "    controls = FormattedComponent(AmplifierSequenceControlsDevice, '{self.autorange_pv}')\n",
    "    \n",
    "    def __init__(self, autorange_pv, scaler_channel_pv, amplifier_pv, range_dict, **kwargs):\n",
    "        self.autorange_pv = autorange_pv\n",
    "        self.scaler_channel_pv = scaler_channel_pv\n",
    "        self.amplifier_pv = amplifier_pv\n",
    "        self.range_dict = range_dict\n",
    "        super().__init__(\"\", **kwargs)\n",
    "\n",
    "upd_struct = DetectorAmplifierAutorangeDevice(\n",
    "    \"9idcLAX:pd01:seq02:\",\n",
    "    \"9idcLAX:vsc:c0.S4\",\n",
    "    \"9idcLAX:fem09:seq02:\",\n",
    "    {\"1e4\":4, \"1e6\":6, \"1e8\":8, \"1e10\":10, \"1e12\":12},\n",
    "    name=\"upd_struct\",\n",
    ")"
   ]
  },
  {
   "cell_type": "code",
   "execution_count": 18,
   "metadata": {},
   "outputs": [
    {
     "data": {
      "text/plain": [
       "OrderedDict([('upd_struct_scaler',\n",
       "              {'timestamp': 1524941203.16494, 'value': 104374.0}),\n",
       "             ('upd_struct_femto_gain',\n",
       "              {'timestamp': 1527005502.683289, 'value': 1000000000000.0}),\n",
       "             ('upd_struct_femto_gainindex',\n",
       "              {'timestamp': 1527005502.683289, 'value': 8}),\n",
       "             ('upd_struct_femto_description',\n",
       "              {'timestamp': 631152000.0, 'value': 'New Femto300 PD'}),\n",
       "             ('upd_struct_controls_gain',\n",
       "              {'timestamp': 1527084381.570188, 'value': 1000000000000.0}),\n",
       "             ('upd_struct_controls_reqrange',\n",
       "              {'timestamp': 1527084381.570188, 'value': 4}),\n",
       "             ('upd_struct_controls_mode',\n",
       "              {'timestamp': 1526924030.29391, 'value': 2}),\n",
       "             ('upd_struct_controls_selected',\n",
       "              {'timestamp': 631152000.0, 'value': 0}),\n",
       "             ('upd_struct_controls_gainU',\n",
       "              {'timestamp': 1524632376.675726, 'value': 4000.0}),\n",
       "             ('upd_struct_controls_gainD',\n",
       "              {'timestamp': 1524632376.675726, 'value': 650000.0}),\n",
       "             ('upd_struct_controls_ranges_range2_gain',\n",
       "              {'timestamp': 631152000.0, 'value': 100000000.0}),\n",
       "             ('upd_struct_controls_ranges_range2_background',\n",
       "              {'timestamp': 1524630654.982611, 'value': 5.0}),\n",
       "             ('upd_struct_controls_ranges_range2_background_error',\n",
       "              {'timestamp': 1524630654.982611, 'value': 0.0}),\n",
       "             ('upd_struct_controls_ranges_range3_gain',\n",
       "              {'timestamp': 631152000.0, 'value': 10000000000.0}),\n",
       "             ('upd_struct_controls_ranges_range3_background',\n",
       "              {'timestamp': 1524630653.732611, 'value': 1063.0}),\n",
       "             ('upd_struct_controls_ranges_range3_background_error',\n",
       "              {'timestamp': 1524630653.732611, 'value': 41.1703777004778}),\n",
       "             ('upd_struct_controls_ranges_range0_gain',\n",
       "              {'timestamp': 631152000.0, 'value': 10000.0}),\n",
       "             ('upd_struct_controls_ranges_range0_background',\n",
       "              {'timestamp': 1524630657.499278, 'value': 5.0}),\n",
       "             ('upd_struct_controls_ranges_range0_background_error',\n",
       "              {'timestamp': 1524630657.499278, 'value': 0.0}),\n",
       "             ('upd_struct_controls_ranges_range4_gain',\n",
       "              {'timestamp': 631152000.0, 'value': 1000000000000.0}),\n",
       "             ('upd_struct_controls_ranges_range4_background',\n",
       "              {'timestamp': 1524630651.449278, 'value': 100229.0}),\n",
       "             ('upd_struct_controls_ranges_range4_background_error',\n",
       "              {'timestamp': 1524630651.449278, 'value': 2769.7053092341794}),\n",
       "             ('upd_struct_controls_ranges_range1_gain',\n",
       "              {'timestamp': 631152000.0, 'value': 1000000.0}),\n",
       "             ('upd_struct_controls_ranges_range1_background',\n",
       "              {'timestamp': 1524630656.249278, 'value': 5.0}),\n",
       "             ('upd_struct_controls_ranges_range1_background_error',\n",
       "              {'timestamp': 1524630656.249278, 'value': 0.0}),\n",
       "             ('upd_struct_controls_counts_per_volt',\n",
       "              {'timestamp': 631152000.0, 'value': 100000.0}),\n",
       "             ('upd_struct_controls_status',\n",
       "              {'timestamp': 1524632401.009059, 'value': 0}),\n",
       "             ('upd_struct_controls_lurange',\n",
       "              {'timestamp': 1527005502.983289, 'value': 4}),\n",
       "             ('upd_struct_controls_lucounts',\n",
       "              {'timestamp': 1527084381.570188, 'value': 104374}),\n",
       "             ('upd_struct_controls_lurate',\n",
       "              {'timestamp': 1527084381.570188, 'value': 104374.0}),\n",
       "             ('upd_struct_controls_lucurrent',\n",
       "              {'timestamp': 1527084381.570188, 'value': 4.145e-14}),\n",
       "             ('upd_struct_controls_updating',\n",
       "              {'timestamp': 1524632401.009059, 'value': 0})])"
      ]
     },
     "execution_count": 18,
     "metadata": {},
     "output_type": "execute_result"
    }
   ],
   "source": [
    "upd_struct.read()"
   ]
  },
  {
   "cell_type": "code",
   "execution_count": 19,
   "metadata": {},
   "outputs": [
    {
     "name": "stdout",
     "output_type": "stream",
     "text": [
      "data keys (* hints)\n",
      "-------------------\n",
      " upd_struct_controls_counts_per_volt\n",
      " upd_struct_controls_gain\n",
      " upd_struct_controls_gainD\n",
      " upd_struct_controls_gainU\n",
      " upd_struct_controls_lucounts\n",
      " upd_struct_controls_lucurrent\n",
      " upd_struct_controls_lurange\n",
      " upd_struct_controls_lurate\n",
      " upd_struct_controls_mode\n",
      " upd_struct_controls_ranges_range0_background\n",
      " upd_struct_controls_ranges_range0_background_error\n",
      " upd_struct_controls_ranges_range0_gain\n",
      " upd_struct_controls_ranges_range1_background\n",
      " upd_struct_controls_ranges_range1_background_error\n",
      " upd_struct_controls_ranges_range1_gain\n",
      " upd_struct_controls_ranges_range2_background\n",
      " upd_struct_controls_ranges_range2_background_error\n",
      " upd_struct_controls_ranges_range2_gain\n",
      " upd_struct_controls_ranges_range3_background\n",
      " upd_struct_controls_ranges_range3_background_error\n",
      " upd_struct_controls_ranges_range3_gain\n",
      " upd_struct_controls_ranges_range4_background\n",
      " upd_struct_controls_ranges_range4_background_error\n",
      " upd_struct_controls_ranges_range4_gain\n",
      " upd_struct_controls_reqrange\n",
      " upd_struct_controls_selected\n",
      " upd_struct_controls_status\n",
      " upd_struct_controls_updating\n",
      " upd_struct_femto_description\n",
      " upd_struct_femto_gain\n",
      " upd_struct_femto_gainindex\n",
      " upd_struct_scaler\n",
      "\n",
      "read attrs\n",
      "----------\n",
      "scaler               EpicsSignal         ('upd_struct_scaler')\n",
      "femto                FemtoAmplifierDevice('upd_struct_femto')\n",
      "controls             AmplifierSequenceControlsDevice('upd_struct_controls')\n",
      "\n",
      "config keys\n",
      "-----------\n",
      "\n",
      "configuration attrs\n",
      "----------\n",
      "\n",
      "Unused attrs\n",
      "------------\n"
     ]
    }
   ],
   "source": [
    "upd_struct.summary()"
   ]
  },
  {
   "cell_type": "markdown",
   "metadata": {},
   "source": [
    "# Set gain on the Femto amplifier\n",
    "\n",
    "We'd like to add a method to set the gain on the Femto amplifiers.  Since the gain values are available from EPICS, we can use that to provide a method that will set the gain by integer index number, by desired gain floating-point value, or by gain text value."
   ]
  },
  {
   "cell_type": "code",
   "execution_count": 22,
   "metadata": {},
   "outputs": [
    {
     "data": {
      "text/plain": [
       "('1e4 V/A',\n",
       " '1e5 V/A',\n",
       " '1e6 V/A',\n",
       " '1e7 V/A',\n",
       " '1e8 V/A',\n",
       " '1e9 V/A',\n",
       " '1e10 V/A',\n",
       " '1e11 V/A',\n",
       " '1e12 V/A',\n",
       " '1e13 V/A',\n",
       " 'UNDEF',\n",
       " 'UNDEF',\n",
       " 'UNDEF',\n",
       " 'UNDEF',\n",
       " 'UNDEF',\n",
       " 'UNDEF')"
      ]
     },
     "execution_count": 22,
     "metadata": {},
     "output_type": "execute_result"
    }
   ],
   "source": [
    "upd_struct.femto.gainindex.enum_strs"
   ]
  },
  {
   "cell_type": "markdown",
   "metadata": {},
   "source": [
    "Looks easy to create a list of all acceptable values.  Like this:"
   ]
  },
  {
   "cell_type": "code",
   "execution_count": 24,
   "metadata": {},
   "outputs": [
    {
     "data": {
      "text/plain": [
       "['1e4 V/A',\n",
       " '1e5 V/A',\n",
       " '1e6 V/A',\n",
       " '1e7 V/A',\n",
       " '1e8 V/A',\n",
       " '1e9 V/A',\n",
       " '1e10 V/A',\n",
       " '1e11 V/A',\n",
       " '1e12 V/A',\n",
       " '1e13 V/A']"
      ]
     },
     "execution_count": 24,
     "metadata": {},
     "output_type": "execute_result"
    }
   ],
   "source": [
    "def showme(enum_strs):\n",
    "    return [s for s in enum_strs if s != 'UNDEF']\n",
    "\n",
    "showme(upd_struct.femto.gainindex.enum_strs)"
   ]
  },
  {
   "cell_type": "markdown",
   "metadata": {},
   "source": [
    "Good starting point.  Let's return all acceptable values as targets for a new `setGain()` method."
   ]
  },
  {
   "cell_type": "code",
   "execution_count": 27,
   "metadata": {},
   "outputs": [
    {
     "data": {
      "text/plain": [
       "['1e4 V/A',\n",
       " '1e5 V/A',\n",
       " '1e6 V/A',\n",
       " '1e7 V/A',\n",
       " '1e8 V/A',\n",
       " '1e9 V/A',\n",
       " '1e10 V/A',\n",
       " '1e11 V/A',\n",
       " '1e12 V/A',\n",
       " '1e13 V/A',\n",
       " 10000.0,\n",
       " 100000.0,\n",
       " 1000000.0,\n",
       " 10000000.0,\n",
       " 100000000.0,\n",
       " 1000000000.0,\n",
       " 10000000000.0,\n",
       " 100000000000.0,\n",
       " 1000000000000.0,\n",
       " 10000000000000.0,\n",
       " 0,\n",
       " 1,\n",
       " 2,\n",
       " 3,\n",
       " 4,\n",
       " 5,\n",
       " 6,\n",
       " 7,\n",
       " 8,\n",
       " 9]"
      ]
     },
     "execution_count": 27,
     "metadata": {},
     "output_type": "execute_result"
    }
   ],
   "source": [
    "def showme(enum_strs):\n",
    "    acceptable = [s for s in enum_strs if s != 'UNDEF']\n",
    "    num_gains = len(acceptable)\n",
    "    # assume labels are ALWAYS formatted: \"{float} V/A\"\n",
    "    acceptable += [float(s.split()[0]) for s in acceptable]\n",
    "    acceptable += range(num_gains)\n",
    "    return acceptable\n",
    "\n",
    "showme(upd_struct.femto.gainindex.enum_strs)"
   ]
  },
  {
   "cell_type": "markdown",
   "metadata": {},
   "source": [
    "Good.  Now, add to the Femto-specific amplifier support:"
   ]
  },
  {
   "cell_type": "code",
   "execution_count": 60,
   "metadata": {},
   "outputs": [
    {
     "name": "stdout",
     "output_type": "stream",
     "text": [
      "0 \n",
      " ()\n"
     ]
    }
   ],
   "source": [
    "class FemtoAmplifierDevice(CurrentAmplifierDevice):\n",
    "    gainindex = Component(EpicsSignal, \"gainidx\")\n",
    "    description = Component(EpicsSignal, \"femtodesc\")\n",
    "    \n",
    "    def __init__(self, *args, **kwargs):\n",
    "        super().__init__(*args, **kwargs)\n",
    "        self._range_info_known = False\n",
    "        self.num_ranges = 0\n",
    "        self.acceptable_range_values = ()\n",
    "        \n",
    "    def __init_range_info__(self, enum_strs):\n",
    "        acceptable = [s for s in enum_strs if s != 'UNDEF']\n",
    "        num_gains = len(acceptable)\n",
    "        # assume labels are ALWAYS formatted: \"{float} V/A\"\n",
    "        acceptable += [float(s.split()[0]) for s in acceptable]\n",
    "        acceptable += range(num_gains)\n",
    "        self.num_ranges = num_gains\n",
    "        self.acceptable_range_values = acceptable\n",
    "\n",
    "    def setGain(self, target):\n",
    "        if not self._range_info_known:\n",
    "            self.__init_range_info__(self.gainindex.enum_strs)\n",
    "        if target in self.acceptable_range_values:\n",
    "            if isinstance(target, (int, float)) and target > self.num_ranges:\n",
    "                # gain value specified, rewrite as str\n",
    "                # assume mantissa is only 1 digit\n",
    "                target = (\"%.0e V/A\" % target).replace(\"+\", \"\")\n",
    "            self.gainindex.put(target)\n",
    "        else:\n",
    "            msg = \"could not set gain to {}, \".format(target)\n",
    "            msg += \"must be one of these: {}\".format(self.gainindex.enum_strs)\n",
    "            raise ValueError(msg)\n",
    "\n",
    "while not femto.connected:\n",
    "    time.sleep(0.1)\n",
    "femto = FemtoAmplifierDevice(\"9idcLAX:fem09:seq02:\", name=\"femto\")\n",
    "print(femto.num_ranges, \"\\n\", femto.acceptable_range_values)"
   ]
  },
  {
   "cell_type": "code",
   "execution_count": 61,
   "metadata": {},
   "outputs": [
    {
     "data": {
      "text/plain": [
       "8.0"
      ]
     },
     "execution_count": 61,
     "metadata": {},
     "output_type": "execute_result"
    }
   ],
   "source": [
    "import math\n",
    "math.log10(femto.gain.value)"
   ]
  },
  {
   "cell_type": "code",
   "execution_count": 62,
   "metadata": {
    "scrolled": false
   },
   "outputs": [
    {
     "data": {
      "text/plain": [
       "7.0"
      ]
     },
     "execution_count": 62,
     "metadata": {},
     "output_type": "execute_result"
    }
   ],
   "source": [
    "femto.setGain(\"1e7 V/A\")\n",
    "math.log10(femto.gain.value)"
   ]
  },
  {
   "cell_type": "code",
   "execution_count": 65,
   "metadata": {},
   "outputs": [
    {
     "name": "stdout",
     "output_type": "stream",
     "text": [
      "8.0 1e8 V/A\n"
     ]
    }
   ],
   "source": [
    "femto.setGain(4)\n",
    "print(math.log10(femto.gain.value), femto.gainindex.enum_strs[4])"
   ]
  },
  {
   "cell_type": "code",
   "execution_count": 67,
   "metadata": {},
   "outputs": [
    {
     "data": {
      "text/plain": [
       "12.0"
      ]
     },
     "execution_count": 67,
     "metadata": {},
     "output_type": "execute_result"
    }
   ],
   "source": [
    "femto.setGain(1e12)\n",
    "math.log10(femto.gain.value)"
   ]
  },
  {
   "cell_type": "code",
   "execution_count": null,
   "metadata": {},
   "outputs": [],
   "source": []
  }
 ],
 "metadata": {
  "kernelspec": {
   "display_name": "Python 3",
   "language": "python",
   "name": "python3"
  },
  "language_info": {
   "codemirror_mode": {
    "name": "ipython",
    "version": 3
   },
   "file_extension": ".py",
   "mimetype": "text/x-python",
   "name": "python",
   "nbconvert_exporter": "python",
   "pygments_lexer": "ipython3",
   "version": "3.6.2"
  }
 },
 "nbformat": 4,
 "nbformat_minor": 2
}
